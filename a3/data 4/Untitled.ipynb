{
 "cells": [
  {
   "cell_type": "code",
   "execution_count": 1,
   "metadata": {},
   "outputs": [
    {
     "data": {
      "text/plain": [
       "<bound method NDFrame.head of       Party  Smart  Creative  HW  Mac  Project  Success  Happy\n",
       "0         0      1         1   1    1        0        0      0\n",
       "1         1      1         0   1    1        1        1      1\n",
       "2         0      1         1   1    1        1        1      0\n",
       "3         0      1         1   1    0        1        1      1\n",
       "4         1      1         0   0    1        1        1      1\n",
       "5         0      1         1   1    1        1        1      0\n",
       "6         1      1         1   1    1        1        1      1\n",
       "7         1      1         1   1    1        1        1      1\n",
       "8         1      0         1   0    0        1        0      0\n",
       "9         1      1         1   0    1        1        0      1\n",
       "10        0      1         0   1    0        0        0      0\n",
       "11        0      1         1   1    1        1        1      1\n",
       "12        1      1         1   0    0        1        0      0\n",
       "13        1      1         1   0    1        1        0      1\n",
       "14        1      1         1   1    0        0        1      1\n",
       "15        1      1         1   0    0        0        0      1\n",
       "16        0      0         1   0    1        1        0      1\n",
       "17        0      1         0   1    1        0        1      0\n",
       "18        1      1         1   1    0        1        0      0\n",
       "19        0      1         1   1    1        1        1      0\n",
       "20        1      1         1   1    1        1        1      1\n",
       "21        1      0         1   0    1        1        1      1\n",
       "22        1      1         1   1    0        1        1      0\n",
       "23        0      1         0   1    1        0        0      1\n",
       "24        1      1         0   1    1        1        1      1\n",
       "25        0      1         1   1    0        1        0      0\n",
       "26        1      1         1   1    1        1        1      1\n",
       "27        1      1         0   1    1        1        1      1\n",
       "28        0      1         0   1    0        1        1      0\n",
       "29        1      0         1   0    1        1        1      1\n",
       "...     ...    ...       ...  ..  ...      ...      ...    ...\n",
       "4970      1      0         1   1    1        0        0      0\n",
       "4971      1      0         0   0    0        0        0      0\n",
       "4972      1      1         0   1    0        1        1      0\n",
       "4973      0      1         1   1    0        1        1      1\n",
       "4974      0      1         1   1    0        1        1      0\n",
       "4975      1      0         1   1    1        1        1      1\n",
       "4976      0      1         1   1    0        1        1      0\n",
       "4977      1      1         1   1    1        1        1      1\n",
       "4978      0      1         0   1    0        0        0      0\n",
       "4979      1      0         1   0    1        0        0      0\n",
       "4980      1      0         1   0    1        0        0      1\n",
       "4981      0      0         0   0    0        0        0      1\n",
       "4982      0      0         0   0    0        0        0      0\n",
       "4983      0      0         1   0    1        0        0      0\n",
       "4984      0      1         1   1    1        1        1      1\n",
       "4985      1      1         1   0    1        1        0      0\n",
       "4986      1      1         1   0    0        0        0      1\n",
       "4987      0      1         1   1    1        1        1      0\n",
       "4988      1      1         0   0    0        1        0      1\n",
       "4989      1      1         1   0    1        1        1      1\n",
       "4990      0      1         0   1    1        1        1      0\n",
       "4991      0      1         0   0    0        1        0      0\n",
       "4992      1      0         0   0    0        0        0      0\n",
       "4993      0      1         1   0    1        0        0      0\n",
       "4994      1      1         1   1    1        0        1      1\n",
       "4995      1      1         1   1    0        1        1      0\n",
       "4996      0      0         1   0    1        1        0      0\n",
       "4997      0      1         0   1    1        1        1      1\n",
       "4998      0      1         1   1    1        1        1      1\n",
       "4999      0      1         1   1    1        1        1      0\n",
       "\n",
       "[5000 rows x 8 columns]>"
      ]
     },
     "execution_count": 1,
     "metadata": {},
     "output_type": "execute_result"
    }
   ],
   "source": [
    "import numpy as np\n",
    "import pandas as pd\n",
    "data = pd.read_csv('students.csv')\n",
    "data.head"
   ]
  },
  {
   "cell_type": "code",
   "execution_count": 17,
   "metadata": {},
   "outputs": [
    {
     "data": {
      "text/plain": [
       "1722"
      ]
     },
     "execution_count": 17,
     "metadata": {},
     "output_type": "execute_result"
    }
   ],
   "source": [
    "len(data[(data.Party == 1) & (data.Smart == 1) & (data.HW == 1)])"
   ]
  },
  {
   "cell_type": "code",
   "execution_count": 19,
   "metadata": {},
   "outputs": [
    {
     "data": {
      "text/plain": [
       "2145"
      ]
     },
     "execution_count": 19,
     "metadata": {},
     "output_type": "execute_result"
    }
   ],
   "source": [
    "len(data[(data.Party == 1) & (data.Smart == 1)])"
   ]
  },
  {
   "cell_type": "code",
   "execution_count": 26,
   "metadata": {},
   "outputs": [
    {
     "data": {
      "text/plain": [
       "933"
      ]
     },
     "execution_count": 26,
     "metadata": {},
     "output_type": "execute_result"
    }
   ],
   "source": [
    "len(data[(data.Smart == 0) & (data.Creative == 1) & (data.Mac == 1)])"
   ]
  },
  {
   "cell_type": "code",
   "execution_count": 30,
   "metadata": {},
   "outputs": [
    {
     "data": {
      "text/plain": [
       "436"
      ]
     },
     "execution_count": 30,
     "metadata": {},
     "output_type": "execute_result"
    }
   ],
   "source": [
    "len(data[(data.Smart == 0) & (data.Creative == 0)])"
   ]
  },
  {
   "cell_type": "code",
   "execution_count": 35,
   "metadata": {},
   "outputs": [
    {
     "data": {
      "text/plain": [
       "46"
      ]
     },
     "execution_count": 35,
     "metadata": {},
     "output_type": "execute_result"
    }
   ],
   "source": [
    "len(data[(data.Smart == 0) & (data.Creative == 0) & (data.Project == 1)])"
   ]
  },
  {
   "cell_type": "code",
   "execution_count": 40,
   "metadata": {},
   "outputs": [
    {
     "data": {
      "text/plain": [
       "45"
      ]
     },
     "execution_count": 40,
     "metadata": {},
     "output_type": "execute_result"
    }
   ],
   "source": [
    "len(data[(data.HW == 0) & (data.Project == 0) & (data.Success == 1)])"
   ]
  },
  {
   "cell_type": "code",
   "execution_count": 44,
   "metadata": {},
   "outputs": [
    {
     "data": {
      "text/plain": [
       "558"
      ]
     },
     "execution_count": 44,
     "metadata": {},
     "output_type": "execute_result"
    }
   ],
   "source": [
    "len(data[(data.HW == 1) & (data.Project == 0)])"
   ]
  },
  {
   "cell_type": "code",
   "execution_count": 61,
   "metadata": {},
   "outputs": [
    {
     "data": {
      "text/plain": [
       "29"
      ]
     },
     "execution_count": 61,
     "metadata": {},
     "output_type": "execute_result"
    }
   ],
   "source": [
    "len(data[(data.Success == 0) & (data.Mac == 0) & (data.Party == 0) & (data.Happy == 1)])"
   ]
  },
  {
   "cell_type": "code",
   "execution_count": 62,
   "metadata": {},
   "outputs": [
    {
     "data": {
      "text/plain": [
       "309"
      ]
     },
     "execution_count": 62,
     "metadata": {},
     "output_type": "execute_result"
    }
   ],
   "source": [
    "len(data[(data.Success == 0) & (data.Mac == 0) & (data.Party == 0)])"
   ]
  },
  {
   "cell_type": "code",
   "execution_count": 68,
   "metadata": {},
   "outputs": [
    {
     "data": {
      "text/plain": [
       "3497"
      ]
     },
     "execution_count": 68,
     "metadata": {},
     "output_type": "execute_result"
    }
   ],
   "source": [
    "len(data[data.Creative == 1])"
   ]
  },
  {
   "cell_type": "code",
   "execution_count": null,
   "metadata": {},
   "outputs": [],
   "source": []
  },
  {
   "cell_type": "code",
   "execution_count": null,
   "metadata": {},
   "outputs": [],
   "source": []
  }
 ],
 "metadata": {
  "kernelspec": {
   "display_name": "Python 3",
   "language": "python",
   "name": "python3"
  },
  "language_info": {
   "codemirror_mode": {
    "name": "ipython",
    "version": 3
   },
   "file_extension": ".py",
   "mimetype": "text/x-python",
   "name": "python",
   "nbconvert_exporter": "python",
   "pygments_lexer": "ipython3",
   "version": "3.7.3"
  }
 },
 "nbformat": 4,
 "nbformat_minor": 2
}
